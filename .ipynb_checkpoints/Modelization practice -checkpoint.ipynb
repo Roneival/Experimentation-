{
 "cells": [
  {
   "cell_type": "code",
   "execution_count": null,
   "id": "fc0eefb4",
   "metadata": {},
   "outputs": [],
   "source": [
    "import torch \n",
    "import torch.nn as nn \n",
    "from torch.autograd import Variable\n",
    "\n",
    "import numpy as np \n",
    "import pandas as pd\n",
    "import seaborn as sns\n",
    "import matplotlib.pyplot as plt \n",
    "import plotly.express as px\n",
    "\n",
    "from sklearn.model_selection import train_test_split"
   ]
  },
  {
   "cell_type": "code",
   "execution_count": null,
   "id": "63ed1538",
   "metadata": {},
   "outputs": [],
   "source": [
    "data = pd.read_csv('Data/Healthcare-Diabetes.csv')"
   ]
  },
  {
   "cell_type": "markdown",
   "id": "976d3793",
   "metadata": {},
   "source": [
    "Columns:\n",
    "\n",
    "- Id: Unique identifier for each data entry.\n",
    "- Pregnancies: Number of times pregnant.\n",
    "- Glucose: Plasma glucose concentration over 2 hours in an oral glucose tolerance test.\n",
    "- BloodPressure: Diastolic blood pressure (mm Hg).\n",
    "- SkinThickness: Triceps skinfold thickness (mm).\n",
    "- Insulin: 2-Hour serum insulin (mu U/ml).\n",
    "- BMI: Body mass index (weight in kg / height in m^2).\n",
    "- DiabetesPedigreeFunction: Diabetes pedigree function, a genetic score of diabetes.\n",
    "- Age: Age in years.\n",
    "- Outcome: Binary classification indicating the presence (1) or absence (0) of diabetes."
   ]
  },
  {
   "cell_type": "code",
   "execution_count": null,
   "id": "2f426fd7",
   "metadata": {},
   "outputs": [],
   "source": [
    "data.head()"
   ]
  },
  {
   "cell_type": "code",
   "execution_count": null,
   "id": "2bcf69e6",
   "metadata": {},
   "outputs": [],
   "source": [
    "data.describe()"
   ]
  },
  {
   "cell_type": "code",
   "execution_count": null,
   "id": "07ebf76a",
   "metadata": {},
   "outputs": [],
   "source": [
    "correlation = data.corr()\n",
    "correlation "
   ]
  },
  {
   "cell_type": "code",
   "execution_count": null,
   "id": "f71d69c9",
   "metadata": {},
   "outputs": [],
   "source": [
    "# Create a heatmap\n",
    "plt.figure(figsize=(8,6))\n",
    "sns.heatmap(correlation, annot=True, cmap='coolwarm', fmt=\".2f\")\n",
    "plt.title('Correlation Matrix Heatmap')\n",
    "plt.show()"
   ]
  },
  {
   "cell_type": "code",
   "execution_count": null,
   "id": "1331ab67",
   "metadata": {},
   "outputs": [],
   "source": [
    "columns = ['Age', 'Insulin', 'Glucose', 'Pregnancies', 'BMI', 'Outcome']\n",
    "colors = ['blue', 'green', 'red', 'purple', 'pink', 'brown']\n",
    "titles = ['Distribution of ' + col for col in columns]\n",
    "\n",
    "fig, axs = plt.subplots(2, 3, figsize=(12,6))\n",
    "axs = axs.flatten()  # For easier iteration\n",
    "\n",
    "for ax, col, color, title in zip(axs, columns, colors, titles):\n",
    "    sns.histplot(data[col], kde=True, color=color, bins=10, ax=ax)\n",
    "    ax.set_title(title)\n",
    "    ax.set_xlabel(col)\n",
    "    ax.set_ylabel('Frequency')\n",
    "\n",
    "plt.tight_layout()\n",
    "plt.show()"
   ]
  },
  {
   "cell_type": "code",
   "execution_count": null,
   "id": "3f550399",
   "metadata": {},
   "outputs": [],
   "source": [
    "# Group by Age and Outcome, and count the occurrences\n",
    "data_grouped = data.groupby(['Age', 'Outcome']).size().reset_index(name='Count')\n",
    "fig = px.line(data_grouped, x='Age', y='Count', color='Outcome', line_shape='spline')\n",
    "fig.update_layout(\n",
    "    title='Distribution of Diabetes Among Age Groups',\n",
    "    xaxis_title='Age',\n",
    "    yaxis_title='Number of Individuals',\n",
    "    legend_title='Outcome',\n",
    "    legend=dict(\n",
    "        orientation='v',\n",
    "        yanchor=\"top\",\n",
    "        y=1.02,\n",
    "        xanchor=\"right\",\n",
    "        x=1))\n",
    "\n",
    "fig.show()"
   ]
  },
  {
   "cell_type": "markdown",
   "id": "42ace8eb",
   "metadata": {},
   "source": [
    "## Data Cleaning & Processing "
   ]
  },
  {
   "cell_type": "code",
   "execution_count": null,
   "id": "99532a94",
   "metadata": {},
   "outputs": [],
   "source": [
    "# Check for missing values\n",
    "print(\"Missing values for each column:\")\n",
    "print(data.isnull().sum())\n",
    "\n",
    "# Get a summary of the DataFrame, including the count of non-null values\n",
    "print(\"\\nDataFrame Summary:\")\n",
    "data.info()"
   ]
  },
  {
   "cell_type": "code",
   "execution_count": null,
   "id": "251488b2",
   "metadata": {},
   "outputs": [],
   "source": [
    "data = data.astype('float32')"
   ]
  },
  {
   "cell_type": "code",
   "execution_count": null,
   "id": "b521863e",
   "metadata": {},
   "outputs": [],
   "source": [
    "# drop unnecessary columns \n",
    "data = data.drop('Id', axis=1)"
   ]
  },
  {
   "cell_type": "code",
   "execution_count": null,
   "id": "eddba4aa",
   "metadata": {},
   "outputs": [],
   "source": [
    "# Data Normalizationfunction \n",
    "def Norm(data): \n",
    "\n",
    "    normalized = (data - data.mean()) / (data.max() - data.min())\n",
    "    return normalized "
   ]
  },
  {
   "cell_type": "code",
   "execution_count": null,
   "id": "25d8b543",
   "metadata": {},
   "outputs": [],
   "source": [
    "# Convert the DataFrame to float32\n",
    "data = data.astype('float32')"
   ]
  },
  {
   "cell_type": "markdown",
   "id": "9309d594",
   "metadata": {},
   "source": [
    "# Linear Regression"
   ]
  },
  {
   "cell_type": "markdown",
   "id": "65fab9b2",
   "metadata": {},
   "source": [
    "### 1. Data pre-processing "
   ]
  },
  {
   "cell_type": "code",
   "execution_count": null,
   "id": "497ed419",
   "metadata": {},
   "outputs": [],
   "source": [
    "class linearRegression(torch.nn.Module):\n",
    "    def __init__(self, inputSize, outputSize):\n",
    "        super(linearRegression, self).__init__()\n",
    "        self.linear = torch.nn.Linear(inputSize, outputSize)\n",
    "\n",
    "    def forward(self, x):\n",
    "        out = self.linear(x)\n",
    "        return out"
   ]
  },
  {
   "cell_type": "code",
   "execution_count": null,
   "id": "2f870e7c",
   "metadata": {},
   "outputs": [],
   "source": [
    "inputDim = 8        # takes variable 'x' \n",
    "outputDim = 1       # takes variable 'y'\n",
    "learningRate = 0.001 \n",
    "epochs = 1000\n",
    "\n",
    "model = linearRegression(inputDim, outputDim)"
   ]
  },
  {
   "cell_type": "code",
   "execution_count": null,
   "id": "c45f6893",
   "metadata": {},
   "outputs": [],
   "source": [
    "# data split \n",
    "X = data.drop('Outcome', axis=1) \n",
    "y = data['Outcome']\n",
    "\n",
    "# Splitting the dataset into 80% for training and 20% for testing\n",
    "x_train, x_test, y_train, y_test = train_test_split(X, y, test_size=0.2, random_state=42)\n",
    "\n",
    "y_train = y_train.values.reshape(-1, 1)\n",
    "y_test = y_test.values.reshape(-1, 1)\n",
    "\n",
    "# Normalizing the training set \n",
    "x_train = Norm(x_train)\n",
    "x_test = Norm(x_test)"
   ]
  },
  {
   "cell_type": "code",
   "execution_count": null,
   "id": "315e6e3e",
   "metadata": {},
   "outputs": [],
   "source": [
    "criterion = torch.nn.MSELoss() \n",
    "optimizer = torch.optim.SGD(model.parameters(), lr=learningRate)\n",
    "\n",
    "# training \n",
    "losses = []\n",
    "\n",
    "for epoch in range(epochs):\n",
    "    # Converting inputs and labels to Variable\n",
    "    if torch.cuda.is_available():\n",
    "        inputs = Variable(torch.from_numpy(x_train.values).cuda())\n",
    "        labels = Variable(torch.from_numpy(y_train).cuda())\n",
    "    else:\n",
    "        inputs = Variable(torch.from_numpy(x_train.values))\n",
    "        labels = Variable(torch.from_numpy(y_train))\n",
    "\n",
    "    # Clear gradient buffers because we don't want any gradient from previous epoch to carry forward, dont want to cummulate gradients\n",
    "    optimizer.zero_grad()\n",
    "\n",
    "    # get output from the model, given the inputs\n",
    "    inputs = inputs.float()\n",
    "    outputs = model(inputs)\n",
    "\n",
    "    # get loss for the predicted output\n",
    "    loss = criterion(outputs, labels)\n",
    "    print(loss)\n",
    "    # get gradients w.r.t to parameters\n",
    "    loss.backward()\n",
    "\n",
    "    # update parameters\n",
    "    optimizer.step()\n",
    "\n",
    "    print('epoch {}, loss {}'.format(epoch, loss.item()))"
   ]
  },
  {
   "cell_type": "code",
   "execution_count": null,
   "id": "24831252",
   "metadata": {},
   "outputs": [],
   "source": [
    "with torch.no_grad(): # we don't need gradients in the testing phase\n",
    "    if torch.cuda.is_available():\n",
    "        predicted = model(Variable(torch.from_numpy(x_train.values).cuda())).cpu().data.numpy()\n",
    "    else:\n",
    "        predicted = model(Variable(torch.from_numpy(x_train.values))).data.numpy()\n",
    "    print(predicted)\n",
    "\n",
    "plt.clf()\n",
    "plt.plot(x_train, y_train, 'go', label='True data', alpha=0.5)\n",
    "plt.plot(x_train, predicted, '--', label='Predictions', alpha=0.5)\n",
    "plt.legend(loc='best')\n",
    "plt.show()"
   ]
  },
  {
   "cell_type": "code",
   "execution_count": null,
   "id": "c80fd95f",
   "metadata": {},
   "outputs": [],
   "source": []
  }
 ],
 "metadata": {
  "kernelspec": {
   "display_name": "Python 3 (ipykernel)",
   "language": "python",
   "name": "python3"
  },
  "language_info": {
   "codemirror_mode": {
    "name": "ipython",
    "version": 3
   },
   "file_extension": ".py",
   "mimetype": "text/x-python",
   "name": "python",
   "nbconvert_exporter": "python",
   "pygments_lexer": "ipython3",
   "version": "3.9.13"
  }
 },
 "nbformat": 4,
 "nbformat_minor": 5
}
